{
 "cells": [
  {
   "cell_type": "code",
   "execution_count": 2,
   "metadata": {},
   "outputs": [],
   "source": [
    "import pandas as pd\n",
    "import numpy as np\n",
    "import matplotlib.pyplot as plt"
   ]
  },
  {
   "cell_type": "markdown",
   "metadata": {},
   "source": [
    "### Exploratory Data Analysis of education"
   ]
  },
  {
   "cell_type": "markdown",
   "metadata": {},
   "source": [
    "##### Preparation of the data"
   ]
  },
  {
   "cell_type": "code",
   "execution_count": 3,
   "metadata": {},
   "outputs": [],
   "source": [
    "df_public = pd.read_csv('D:\\\\Udacity\\\\data\\\\schools\\\\Public_Schools.csv')\n",
    "df_private = pd.read_csv('D:\\\\Udacity\\\\data\\\\schools\\\\Private_Schools.csv')"
   ]
  },
  {
   "cell_type": "markdown",
   "metadata": {},
   "source": [
    "This two dataframes come from the same source. However, before merging them together, we need to check if the columns are named properly or if there are different columns between the two dataframes."
   ]
  },
  {
   "cell_type": "code",
   "execution_count": 4,
   "metadata": {},
   "outputs": [
    {
     "data": {
      "text/plain": [
       "Index(['X', 'Y', 'OBJECTID', 'NCESID', 'NAME', 'ADDRESS', 'CITY', 'STATE',\n",
       "       'ZIP', 'ZIP4', 'TELEPHONE', 'TYPE', 'STATUS', 'POPULATION', 'COUNTY',\n",
       "       'COUNTYFIPS', 'COUNTRY', 'LATITUDE', 'LONGITUDE', 'NAICS_CODE',\n",
       "       'NAICS_DESC', 'SOURCE', 'SOURCEDATE', 'VAL_METHOD', 'VAL_DATE',\n",
       "       'WEBSITE', 'LEVEL_', 'ENROLLMENT', 'ST_GRADE', 'END_GRADE',\n",
       "       'DISTRICTID', 'FT_TEACHER', 'SHELTER_ID'],\n",
       "      dtype='object')"
      ]
     },
     "execution_count": 4,
     "metadata": {},
     "output_type": "execute_result"
    }
   ],
   "source": [
    "df_public.columns"
   ]
  },
  {
   "cell_type": "code",
   "execution_count": 5,
   "metadata": {},
   "outputs": [
    {
     "data": {
      "text/plain": [
       "Index(['X', 'Y', 'FID', 'OBJECTID', 'NCESID', 'NAME', 'ADDRESS', 'CITY',\n",
       "       'STATE', 'ZIP', 'ZIP4', 'TELEPHONE', 'TYPE', 'STATUS', 'POPULATION',\n",
       "       'COUNTY', 'COUNTYFIPS', 'COUNTRY', 'LATITUDE', 'LONGITUDE',\n",
       "       'NAICS_CODE', 'NAICS_DESC', 'SOURCE', 'SOURCEDATE', 'VAL_METHOD',\n",
       "       'VAL_DATE', 'WEBSITE', 'LEVEL_', 'ENROLLMENT', 'START_GRAD',\n",
       "       'END_GRADE', 'FT_TEACHER', 'SHELTER_ID'],\n",
       "      dtype='object')"
      ]
     },
     "execution_count": 5,
     "metadata": {},
     "output_type": "execute_result"
    }
   ],
   "source": [
    "df_private.columns"
   ]
  },
  {
   "cell_type": "markdown",
   "metadata": {},
   "source": [
    "There are two differences between the columns of each dataframe. Firstly, the private dataframe has a column called FID. Secondly, the private school dataframe has a START_GRAD column whereas the public school dataframe has a ST_GRADE."
   ]
  },
  {
   "cell_type": "code",
   "execution_count": 6,
   "metadata": {},
   "outputs": [
    {
     "data": {
      "text/plain": [
       "0     1\n",
       "1     2\n",
       "2     3\n",
       "3     4\n",
       "4     5\n",
       "5     6\n",
       "6     7\n",
       "7     8\n",
       "8     9\n",
       "9    10\n",
       "Name: FID, dtype: int64"
      ]
     },
     "execution_count": 6,
     "metadata": {},
     "output_type": "execute_result"
    }
   ],
   "source": [
    "df_private['FID'].head(10)"
   ]
  },
  {
   "cell_type": "code",
   "execution_count": 7,
   "metadata": {},
   "outputs": [
    {
     "data": {
      "text/plain": [
       "count    31064.000000\n",
       "mean     15532.500000\n",
       "std       8967.548717\n",
       "min          1.000000\n",
       "25%       7766.750000\n",
       "50%      15532.500000\n",
       "75%      23298.250000\n",
       "max      31064.000000\n",
       "Name: FID, dtype: float64"
      ]
     },
     "execution_count": 7,
     "metadata": {},
     "output_type": "execute_result"
    }
   ],
   "source": [
    "df_private['FID'].describe()"
   ]
  },
  {
   "cell_type": "markdown",
   "metadata": {},
   "source": [
    "We have to add a new column named AVAILABILITY to make a distinction between public and private schools."
   ]
  },
  {
   "cell_type": "code",
   "execution_count": 8,
   "metadata": {},
   "outputs": [],
   "source": [
    "df_public['AVAILABILTY'] = 'public'\n",
    "df_private['AVAILABILTY'] = 'private'"
   ]
  },
  {
   "cell_type": "markdown",
   "metadata": {},
   "source": [
    "Seems like the FID column is just an identification column. In that case, we can drop the column and then rename the START_GRAD to ST_GRAD in order to concat the two dataframes. "
   ]
  },
  {
   "cell_type": "code",
   "execution_count": 9,
   "metadata": {},
   "outputs": [],
   "source": [
    "df_private.drop(['FID'], axis=1,inplace=True)\n",
    "df_private.rename(columns={'START_GRAD':'ST_GRADE'}, inplace=True)"
   ]
  },
  {
   "cell_type": "code",
   "execution_count": 10,
   "metadata": {},
   "outputs": [],
   "source": [
    "df= pd.concat([df_public,df_private])"
   ]
  },
  {
   "cell_type": "code",
   "execution_count": 11,
   "metadata": {},
   "outputs": [
    {
     "data": {
      "text/plain": [
       "'This concatenated dataframe has 133398 rows and there are 102334 unique values in the OBJECTID column'"
      ]
     },
     "execution_count": 11,
     "metadata": {},
     "output_type": "execute_result"
    }
   ],
   "source": [
    "f\"\"\"This concatenated dataframe has {len(df.index)} rows and there are {df[\"OBJECTID\"].nunique()} unique values in the OBJECTID column\"\"\""
   ]
  },
  {
   "cell_type": "markdown",
   "metadata": {},
   "source": [
    "The OBJECTID column is not a good identification for our schools because we have some duplicates values. To fix this, we are going to create a new index column."
   ]
  },
  {
   "cell_type": "code",
   "execution_count": 12,
   "metadata": {},
   "outputs": [],
   "source": [
    "df.reset_index(inplace=True)"
   ]
  },
  {
   "cell_type": "code",
   "execution_count": 13,
   "metadata": {},
   "outputs": [
    {
     "data": {
      "text/html": [
       "<div>\n",
       "<style scoped>\n",
       "    .dataframe tbody tr th:only-of-type {\n",
       "        vertical-align: middle;\n",
       "    }\n",
       "\n",
       "    .dataframe tbody tr th {\n",
       "        vertical-align: top;\n",
       "    }\n",
       "\n",
       "    .dataframe thead th {\n",
       "        text-align: right;\n",
       "    }\n",
       "</style>\n",
       "<table border=\"1\" class=\"dataframe\">\n",
       "  <thead>\n",
       "    <tr style=\"text-align: right;\">\n",
       "      <th></th>\n",
       "      <th>index</th>\n",
       "      <th>X</th>\n",
       "      <th>Y</th>\n",
       "      <th>OBJECTID</th>\n",
       "      <th>NCESID</th>\n",
       "      <th>NAME</th>\n",
       "      <th>ADDRESS</th>\n",
       "      <th>CITY</th>\n",
       "      <th>STATE</th>\n",
       "      <th>ZIP</th>\n",
       "      <th>...</th>\n",
       "      <th>VAL_DATE</th>\n",
       "      <th>WEBSITE</th>\n",
       "      <th>LEVEL_</th>\n",
       "      <th>ENROLLMENT</th>\n",
       "      <th>ST_GRADE</th>\n",
       "      <th>END_GRADE</th>\n",
       "      <th>DISTRICTID</th>\n",
       "      <th>FT_TEACHER</th>\n",
       "      <th>SHELTER_ID</th>\n",
       "      <th>AVAILABILTY</th>\n",
       "    </tr>\n",
       "  </thead>\n",
       "  <tbody>\n",
       "    <tr>\n",
       "      <th>0</th>\n",
       "      <td>0</td>\n",
       "      <td>-9.844095e+06</td>\n",
       "      <td>5.230976e+06</td>\n",
       "      <td>1</td>\n",
       "      <td>170330000017</td>\n",
       "      <td>ALDEN-HEBRON HIGH SCHOOL</td>\n",
       "      <td>9604 ILLINOIS ST</td>\n",
       "      <td>HEBRON</td>\n",
       "      <td>IL</td>\n",
       "      <td>60034</td>\n",
       "      <td>...</td>\n",
       "      <td>2010/08/27 00:00:00</td>\n",
       "      <td>NOT AVAILABLE</td>\n",
       "      <td>HIGH</td>\n",
       "      <td>112</td>\n",
       "      <td>09</td>\n",
       "      <td>12</td>\n",
       "      <td>1703300.0</td>\n",
       "      <td>11</td>\n",
       "      <td>NOT AVAILABLE</td>\n",
       "      <td>public</td>\n",
       "    </tr>\n",
       "    <tr>\n",
       "      <th>1</th>\n",
       "      <td>1</td>\n",
       "      <td>-9.007027e+06</td>\n",
       "      <td>4.195442e+06</td>\n",
       "      <td>2</td>\n",
       "      <td>370297001287</td>\n",
       "      <td>WESTERLY HILLS ACADEMY</td>\n",
       "      <td>4420 DENVER AVE</td>\n",
       "      <td>CHARLOTTE</td>\n",
       "      <td>NC</td>\n",
       "      <td>28208</td>\n",
       "      <td>...</td>\n",
       "      <td>2016/08/22 00:00:00</td>\n",
       "      <td>http://schools.cms.k12.nc.us/westerlyhillsES</td>\n",
       "      <td>ELEMENTARY</td>\n",
       "      <td>495</td>\n",
       "      <td>KG</td>\n",
       "      <td>08</td>\n",
       "      <td>3702970.0</td>\n",
       "      <td>45</td>\n",
       "      <td>NOT AVAILABLE</td>\n",
       "      <td>public</td>\n",
       "    </tr>\n",
       "    <tr>\n",
       "      <th>2</th>\n",
       "      <td>2</td>\n",
       "      <td>-9.580426e+06</td>\n",
       "      <td>4.792069e+06</td>\n",
       "      <td>3</td>\n",
       "      <td>180369000584</td>\n",
       "      <td>NORTHWOOD ELEMENTARY SCHOOL</td>\n",
       "      <td>965 GRIZZLY CUB DR</td>\n",
       "      <td>FRANKLIN</td>\n",
       "      <td>IN</td>\n",
       "      <td>46131</td>\n",
       "      <td>...</td>\n",
       "      <td>2010/08/02 00:00:00</td>\n",
       "      <td>NOT AVAILABLE</td>\n",
       "      <td>ELEMENTARY</td>\n",
       "      <td>478</td>\n",
       "      <td>PK</td>\n",
       "      <td>04</td>\n",
       "      <td>1803690.0</td>\n",
       "      <td>25</td>\n",
       "      <td>NOT AVAILABLE</td>\n",
       "      <td>public</td>\n",
       "    </tr>\n",
       "  </tbody>\n",
       "</table>\n",
       "<p>3 rows × 35 columns</p>\n",
       "</div>"
      ],
      "text/plain": [
       "   index             X             Y  OBJECTID        NCESID  \\\n",
       "0      0 -9.844095e+06  5.230976e+06         1  170330000017   \n",
       "1      1 -9.007027e+06  4.195442e+06         2  370297001287   \n",
       "2      2 -9.580426e+06  4.792069e+06         3  180369000584   \n",
       "\n",
       "                          NAME             ADDRESS       CITY STATE    ZIP  \\\n",
       "0     ALDEN-HEBRON HIGH SCHOOL    9604 ILLINOIS ST     HEBRON    IL  60034   \n",
       "1       WESTERLY HILLS ACADEMY     4420 DENVER AVE  CHARLOTTE    NC  28208   \n",
       "2  NORTHWOOD ELEMENTARY SCHOOL  965 GRIZZLY CUB DR   FRANKLIN    IN  46131   \n",
       "\n",
       "   ...             VAL_DATE                                       WEBSITE  \\\n",
       "0  ...  2010/08/27 00:00:00                                 NOT AVAILABLE   \n",
       "1  ...  2016/08/22 00:00:00  http://schools.cms.k12.nc.us/westerlyhillsES   \n",
       "2  ...  2010/08/02 00:00:00                                 NOT AVAILABLE   \n",
       "\n",
       "       LEVEL_  ENROLLMENT  ST_GRADE END_GRADE  DISTRICTID FT_TEACHER  \\\n",
       "0        HIGH         112        09        12   1703300.0         11   \n",
       "1  ELEMENTARY         495        KG        08   3702970.0         45   \n",
       "2  ELEMENTARY         478        PK        04   1803690.0         25   \n",
       "\n",
       "      SHELTER_ID  AVAILABILTY  \n",
       "0  NOT AVAILABLE       public  \n",
       "1  NOT AVAILABLE       public  \n",
       "2  NOT AVAILABLE       public  \n",
       "\n",
       "[3 rows x 35 columns]"
      ]
     },
     "execution_count": 13,
     "metadata": {},
     "output_type": "execute_result"
    }
   ],
   "source": [
    "df.head(3)"
   ]
  },
  {
   "cell_type": "markdown",
   "metadata": {},
   "source": [
    "We see there are 33 columns. This columns represent:\n",
    "\n",
    "    - X (float): Unknown.\n",
    "    - Y (float): Unknown.\n",
    "    - ObjectId (Integer): identification of the row.\n",
    "    - NCESID (Text): National Center for Educational Statistics (NCES) district identification number.\n",
    "    - NAME (Text): Name of the school.\n",
    "    - ADDRESS (Text): Address of the school.\n",
    "    - CITY (Text): City of the school.\n",
    "    - STATE (Text): State of the school.\n",
    "    - ZIP (Text): first five digit of the zip code.\n",
    "    - ZIP4 (Text): last four digit of the zip code.\n",
    "    - TELEPHONE (Text): phone of the school.\n",
    "    - TYPE (Text): Unknown. Values between 1 - 7\n",
    "    - STATUS (Text): Unknown. Values between 1 - 2\n",
    "    - POPULATION (Number): Unknown.\n",
    "    - COUNTY (Text): County of the school.\n",
    "    - COUNTYFIPS (Text): FIPS county code.\n",
    "    - COUNTRY (Text): Country of the school.\n",
    "    - LATITUDE (Number): latitude of the school.\n",
    "    - LONGITUDE (Number): longitude of the school.\n",
    "    - NAICS_CODE (Text): North American Industry Classification System (NAICS) code.\n",
    "    - NAICS_DESC (Text): North American Industry Classification System (NAICS) description about the school.\n",
    "    - SOURCE (TEXT): url where the data was extracted.\n",
    "    - SOURCEDATE (DATE): date of the year when the data was extracted.\n",
    "    - VAL_METHOD (TEXT): validation method.\n",
    "    - VAL_DATE (DATE): date of the year when the data was validated.\n",
    "    - WEBSITE (Text): url of the school's website.\n",
    "    - LEVEL (Text): education level of the school. \n",
    "    - ENROLLMENT (Number): number of students enrolled.\n",
    "    - ST_GRADE (Text): lowest grade the school offers.\n",
    "    - END_GRADE (Text): highest grade the school offers. \n",
    "    - DISTRICT_ID (Text): district identification of the school.\n",
    "    - FT_TEACHER (Number): numbers of teachers working.\n",
    "    - SHELTER_ID (Text): identication of the shelter.\n",
    "    - AVAILABILITY (Text): if the school is private or public."
   ]
  },
  {
   "cell_type": "markdown",
   "metadata": {},
   "source": [
    "For our use case, we only need high level geographical data like the city and the state of the school, the level of education the schools provide and the teachers and students in each school. So that, we are going to drop some of the columns we don't need."
   ]
  },
  {
   "cell_type": "code",
   "execution_count": 14,
   "metadata": {},
   "outputs": [
    {
     "data": {
      "text/plain": [
       "Index(['index', 'X', 'Y', 'OBJECTID', 'NCESID', 'NAME', 'ADDRESS', 'CITY',\n",
       "       'STATE', 'ZIP', 'ZIP4', 'TELEPHONE', 'TYPE', 'STATUS', 'POPULATION',\n",
       "       'COUNTY', 'COUNTYFIPS', 'COUNTRY', 'LATITUDE', 'LONGITUDE',\n",
       "       'NAICS_CODE', 'NAICS_DESC', 'SOURCE', 'SOURCEDATE', 'VAL_METHOD',\n",
       "       'VAL_DATE', 'WEBSITE', 'LEVEL_', 'ENROLLMENT', 'ST_GRADE', 'END_GRADE',\n",
       "       'DISTRICTID', 'FT_TEACHER', 'SHELTER_ID', 'AVAILABILTY'],\n",
       "      dtype='object')"
      ]
     },
     "execution_count": 14,
     "metadata": {},
     "output_type": "execute_result"
    }
   ],
   "source": [
    "df.columns"
   ]
  },
  {
   "cell_type": "code",
   "execution_count": 15,
   "metadata": {},
   "outputs": [],
   "source": [
    "df.drop(['X','Y','OBJECTID','NCESID','ADDRESS','ZIP','ZIP4','TELEPHONE','TYPE', 'STATUS', 'POPULATION','COUNTYFIPS','LATITUDE','LONGITUDE',\n",
    "'NAICS_CODE', 'NAICS_DESC', 'SOURCE', 'SOURCEDATE', 'VAL_METHOD', 'VAL_DATE', 'WEBSITE','LEVEL_', 'ST_GRADE', 'END_GRADE', 'DISTRICTID',\n",
    "'SHELTER_ID'],inplace=True, axis=1)"
   ]
  },
  {
   "cell_type": "code",
   "execution_count": 16,
   "metadata": {},
   "outputs": [
    {
     "data": {
      "text/html": [
       "<div>\n",
       "<style scoped>\n",
       "    .dataframe tbody tr th:only-of-type {\n",
       "        vertical-align: middle;\n",
       "    }\n",
       "\n",
       "    .dataframe tbody tr th {\n",
       "        vertical-align: top;\n",
       "    }\n",
       "\n",
       "    .dataframe thead th {\n",
       "        text-align: right;\n",
       "    }\n",
       "</style>\n",
       "<table border=\"1\" class=\"dataframe\">\n",
       "  <thead>\n",
       "    <tr style=\"text-align: right;\">\n",
       "      <th></th>\n",
       "      <th>index</th>\n",
       "      <th>NAME</th>\n",
       "      <th>CITY</th>\n",
       "      <th>STATE</th>\n",
       "      <th>COUNTY</th>\n",
       "      <th>COUNTRY</th>\n",
       "      <th>ENROLLMENT</th>\n",
       "      <th>FT_TEACHER</th>\n",
       "      <th>AVAILABILTY</th>\n",
       "    </tr>\n",
       "  </thead>\n",
       "  <tbody>\n",
       "    <tr>\n",
       "      <th>0</th>\n",
       "      <td>0</td>\n",
       "      <td>ALDEN-HEBRON HIGH SCHOOL</td>\n",
       "      <td>HEBRON</td>\n",
       "      <td>IL</td>\n",
       "      <td>MCHENRY</td>\n",
       "      <td>USA</td>\n",
       "      <td>112</td>\n",
       "      <td>11</td>\n",
       "      <td>public</td>\n",
       "    </tr>\n",
       "    <tr>\n",
       "      <th>1</th>\n",
       "      <td>1</td>\n",
       "      <td>WESTERLY HILLS ACADEMY</td>\n",
       "      <td>CHARLOTTE</td>\n",
       "      <td>NC</td>\n",
       "      <td>MECKLENBURG</td>\n",
       "      <td>USA</td>\n",
       "      <td>495</td>\n",
       "      <td>45</td>\n",
       "      <td>public</td>\n",
       "    </tr>\n",
       "    <tr>\n",
       "      <th>2</th>\n",
       "      <td>2</td>\n",
       "      <td>NORTHWOOD ELEMENTARY SCHOOL</td>\n",
       "      <td>FRANKLIN</td>\n",
       "      <td>IN</td>\n",
       "      <td>JOHNSON</td>\n",
       "      <td>USA</td>\n",
       "      <td>478</td>\n",
       "      <td>25</td>\n",
       "      <td>public</td>\n",
       "    </tr>\n",
       "  </tbody>\n",
       "</table>\n",
       "</div>"
      ],
      "text/plain": [
       "   index                         NAME       CITY STATE       COUNTY COUNTRY  \\\n",
       "0      0     ALDEN-HEBRON HIGH SCHOOL     HEBRON    IL      MCHENRY     USA   \n",
       "1      1       WESTERLY HILLS ACADEMY  CHARLOTTE    NC  MECKLENBURG     USA   \n",
       "2      2  NORTHWOOD ELEMENTARY SCHOOL   FRANKLIN    IN      JOHNSON     USA   \n",
       "\n",
       "   ENROLLMENT  FT_TEACHER AVAILABILTY  \n",
       "0         112          11      public  \n",
       "1         495          45      public  \n",
       "2         478          25      public  "
      ]
     },
     "execution_count": 16,
     "metadata": {},
     "output_type": "execute_result"
    }
   ],
   "source": [
    "df.head(3)"
   ]
  },
  {
   "cell_type": "code",
   "execution_count": 17,
   "metadata": {},
   "outputs": [
    {
     "data": {
      "text/html": [
       "<div>\n",
       "<style scoped>\n",
       "    .dataframe tbody tr th:only-of-type {\n",
       "        vertical-align: middle;\n",
       "    }\n",
       "\n",
       "    .dataframe tbody tr th {\n",
       "        vertical-align: top;\n",
       "    }\n",
       "\n",
       "    .dataframe thead th {\n",
       "        text-align: right;\n",
       "    }\n",
       "</style>\n",
       "<table border=\"1\" class=\"dataframe\">\n",
       "  <thead>\n",
       "    <tr style=\"text-align: right;\">\n",
       "      <th></th>\n",
       "      <th>index</th>\n",
       "      <th>ENROLLMENT</th>\n",
       "      <th>FT_TEACHER</th>\n",
       "    </tr>\n",
       "  </thead>\n",
       "  <tbody>\n",
       "    <tr>\n",
       "      <th>count</th>\n",
       "      <td>133398.000000</td>\n",
       "      <td>133398.000000</td>\n",
       "      <td>133398.000000</td>\n",
       "    </tr>\n",
       "    <tr>\n",
       "      <th>mean</th>\n",
       "      <td>42868.282336</td>\n",
       "      <td>385.298805</td>\n",
       "      <td>-24.627753</td>\n",
       "    </tr>\n",
       "    <tr>\n",
       "      <th>std</th>\n",
       "      <td>30249.734751</td>\n",
       "      <td>492.018792</td>\n",
       "      <td>227.739964</td>\n",
       "    </tr>\n",
       "    <tr>\n",
       "      <th>min</th>\n",
       "      <td>0.000000</td>\n",
       "      <td>-999.000000</td>\n",
       "      <td>-999.000000</td>\n",
       "    </tr>\n",
       "    <tr>\n",
       "      <th>25%</th>\n",
       "      <td>16674.250000</td>\n",
       "      <td>96.000000</td>\n",
       "      <td>9.000000</td>\n",
       "    </tr>\n",
       "    <tr>\n",
       "      <th>50%</th>\n",
       "      <td>35634.500000</td>\n",
       "      <td>333.000000</td>\n",
       "      <td>22.000000</td>\n",
       "    </tr>\n",
       "    <tr>\n",
       "      <th>75%</th>\n",
       "      <td>68983.750000</td>\n",
       "      <td>573.000000</td>\n",
       "      <td>36.000000</td>\n",
       "    </tr>\n",
       "    <tr>\n",
       "      <th>max</th>\n",
       "      <td>102333.000000</td>\n",
       "      <td>14286.000000</td>\n",
       "      <td>1419.000000</td>\n",
       "    </tr>\n",
       "  </tbody>\n",
       "</table>\n",
       "</div>"
      ],
      "text/plain": [
       "               index     ENROLLMENT     FT_TEACHER\n",
       "count  133398.000000  133398.000000  133398.000000\n",
       "mean    42868.282336     385.298805     -24.627753\n",
       "std     30249.734751     492.018792     227.739964\n",
       "min         0.000000    -999.000000    -999.000000\n",
       "25%     16674.250000      96.000000       9.000000\n",
       "50%     35634.500000     333.000000      22.000000\n",
       "75%     68983.750000     573.000000      36.000000\n",
       "max    102333.000000   14286.000000    1419.000000"
      ]
     },
     "execution_count": 17,
     "metadata": {},
     "output_type": "execute_result"
    }
   ],
   "source": [
    "df.describe()"
   ]
  },
  {
   "cell_type": "markdown",
   "metadata": {},
   "source": [
    "In the enrollment and ft_teacher columns, we have some -999 values which is incorrect. We can delete this rows or replace the -999 with a zero value or the mean. Firstly, let's check how many rows has a -999 value."
   ]
  },
  {
   "cell_type": "code",
   "execution_count": 18,
   "metadata": {},
   "outputs": [
    {
     "data": {
      "text/plain": [
       "7537"
      ]
     },
     "execution_count": 18,
     "metadata": {},
     "output_type": "execute_result"
    }
   ],
   "source": [
    "df['index'][(df['ENROLLMENT'] == -999) | (df['FT_TEACHER'] == -999)].count()"
   ]
  },
  {
   "cell_type": "markdown",
   "metadata": {},
   "source": [
    "There are a lot of values with missing data. In that case, we are going to use the mean of all the schools that have more than 0 students and teachers."
   ]
  },
  {
   "cell_type": "code",
   "execution_count": 19,
   "metadata": {},
   "outputs": [
    {
     "data": {
      "text/plain": [
       "432.34393178988904"
      ]
     },
     "execution_count": 19,
     "metadata": {},
     "output_type": "execute_result"
    }
   ],
   "source": [
    "df['ENROLLMENT'][df['ENROLLMENT'] > 0].mean()"
   ]
  },
  {
   "cell_type": "code",
   "execution_count": 20,
   "metadata": {},
   "outputs": [
    {
     "name": "stderr",
     "output_type": "stream",
     "text": [
      "C:\\Users\\Juyas\\AppData\\Local\\Temp\\ipykernel_15016\\1727828147.py:1: SettingWithCopyWarning: \n",
      "A value is trying to be set on a copy of a slice from a DataFrame\n",
      "\n",
      "See the caveats in the documentation: https://pandas.pydata.org/pandas-docs/stable/user_guide/indexing.html#returning-a-view-versus-a-copy\n",
      "  df['ENROLLMENT'][df['ENROLLMENT'] < 0] = 432.343931789889\n"
     ]
    }
   ],
   "source": [
    "df['ENROLLMENT'][df['ENROLLMENT'] < 0] = 432.343931789889"
   ]
  },
  {
   "cell_type": "code",
   "execution_count": 21,
   "metadata": {},
   "outputs": [
    {
     "data": {
      "text/plain": [
       "28.263525277533745"
      ]
     },
     "execution_count": 21,
     "metadata": {},
     "output_type": "execute_result"
    }
   ],
   "source": [
    "df['FT_TEACHER'][df['FT_TEACHER'] > 0].mean()"
   ]
  },
  {
   "cell_type": "code",
   "execution_count": 22,
   "metadata": {},
   "outputs": [
    {
     "name": "stderr",
     "output_type": "stream",
     "text": [
      "C:\\Users\\Juyas\\AppData\\Local\\Temp\\ipykernel_15016\\4111014514.py:1: SettingWithCopyWarning: \n",
      "A value is trying to be set on a copy of a slice from a DataFrame\n",
      "\n",
      "See the caveats in the documentation: https://pandas.pydata.org/pandas-docs/stable/user_guide/indexing.html#returning-a-view-versus-a-copy\n",
      "  df['FT_TEACHER'][df['FT_TEACHER'] < 0] = 28.263525277533745\n"
     ]
    }
   ],
   "source": [
    "df['FT_TEACHER'][df['FT_TEACHER'] < 0] = 28.263525277533745"
   ]
  },
  {
   "cell_type": "code",
   "execution_count": 23,
   "metadata": {},
   "outputs": [
    {
     "data": {
      "text/html": [
       "<div>\n",
       "<style scoped>\n",
       "    .dataframe tbody tr th:only-of-type {\n",
       "        vertical-align: middle;\n",
       "    }\n",
       "\n",
       "    .dataframe tbody tr th {\n",
       "        vertical-align: top;\n",
       "    }\n",
       "\n",
       "    .dataframe thead th {\n",
       "        text-align: right;\n",
       "    }\n",
       "</style>\n",
       "<table border=\"1\" class=\"dataframe\">\n",
       "  <thead>\n",
       "    <tr style=\"text-align: right;\">\n",
       "      <th></th>\n",
       "      <th>index</th>\n",
       "      <th>ENROLLMENT</th>\n",
       "      <th>FT_TEACHER</th>\n",
       "    </tr>\n",
       "  </thead>\n",
       "  <tbody>\n",
       "    <tr>\n",
       "      <th>count</th>\n",
       "      <td>133398.000000</td>\n",
       "      <td>133398.000000</td>\n",
       "      <td>133398.000000</td>\n",
       "    </tr>\n",
       "    <tr>\n",
       "      <th>mean</th>\n",
       "      <td>42868.282336</td>\n",
       "      <td>426.351309</td>\n",
       "      <td>27.976013</td>\n",
       "    </tr>\n",
       "    <tr>\n",
       "      <th>std</th>\n",
       "      <td>30249.734751</td>\n",
       "      <td>430.696120</td>\n",
       "      <td>24.991641</td>\n",
       "    </tr>\n",
       "    <tr>\n",
       "      <th>min</th>\n",
       "      <td>0.000000</td>\n",
       "      <td>0.000000</td>\n",
       "      <td>0.000000</td>\n",
       "    </tr>\n",
       "    <tr>\n",
       "      <th>25%</th>\n",
       "      <td>16674.250000</td>\n",
       "      <td>121.000000</td>\n",
       "      <td>11.000000</td>\n",
       "    </tr>\n",
       "    <tr>\n",
       "      <th>50%</th>\n",
       "      <td>35634.500000</td>\n",
       "      <td>359.000000</td>\n",
       "      <td>24.000000</td>\n",
       "    </tr>\n",
       "    <tr>\n",
       "      <th>75%</th>\n",
       "      <td>68983.750000</td>\n",
       "      <td>573.000000</td>\n",
       "      <td>36.000000</td>\n",
       "    </tr>\n",
       "    <tr>\n",
       "      <th>max</th>\n",
       "      <td>102333.000000</td>\n",
       "      <td>14286.000000</td>\n",
       "      <td>1419.000000</td>\n",
       "    </tr>\n",
       "  </tbody>\n",
       "</table>\n",
       "</div>"
      ],
      "text/plain": [
       "               index     ENROLLMENT     FT_TEACHER\n",
       "count  133398.000000  133398.000000  133398.000000\n",
       "mean    42868.282336     426.351309      27.976013\n",
       "std     30249.734751     430.696120      24.991641\n",
       "min         0.000000       0.000000       0.000000\n",
       "25%     16674.250000     121.000000      11.000000\n",
       "50%     35634.500000     359.000000      24.000000\n",
       "75%     68983.750000     573.000000      36.000000\n",
       "max    102333.000000   14286.000000    1419.000000"
      ]
     },
     "execution_count": 23,
     "metadata": {},
     "output_type": "execute_result"
    }
   ],
   "source": [
    "df.describe()"
   ]
  },
  {
   "cell_type": "code",
   "execution_count": 24,
   "metadata": {},
   "outputs": [
    {
     "name": "stdout",
     "output_type": "stream",
     "text": [
      "<class 'pandas.core.frame.DataFrame'>\n",
      "RangeIndex: 133398 entries, 0 to 133397\n",
      "Data columns (total 9 columns):\n",
      " #   Column       Non-Null Count   Dtype  \n",
      "---  ------       --------------   -----  \n",
      " 0   index        133398 non-null  int64  \n",
      " 1   NAME         133398 non-null  object \n",
      " 2   CITY         133398 non-null  object \n",
      " 3   STATE        133398 non-null  object \n",
      " 4   COUNTY       133375 non-null  object \n",
      " 5   COUNTRY      133398 non-null  object \n",
      " 6   ENROLLMENT   133398 non-null  float64\n",
      " 7   FT_TEACHER   133398 non-null  float64\n",
      " 8   AVAILABILTY  133398 non-null  object \n",
      "dtypes: float64(2), int64(1), object(6)\n",
      "memory usage: 9.2+ MB\n"
     ]
    }
   ],
   "source": [
    "df.info()"
   ]
  },
  {
   "cell_type": "markdown",
   "metadata": {},
   "source": [
    "Now, I'm going to rename the columns for clarity"
   ]
  },
  {
   "cell_type": "code",
   "execution_count": 25,
   "metadata": {},
   "outputs": [],
   "source": [
    "new_columns = ['id_school','name','city','state','county','country','n_students','n_teachers','availability']"
   ]
  },
  {
   "cell_type": "code",
   "execution_count": 26,
   "metadata": {},
   "outputs": [
    {
     "name": "stdout",
     "output_type": "stream",
     "text": [
      "<class 'pandas.core.frame.DataFrame'>\n",
      "RangeIndex: 133398 entries, 0 to 133397\n",
      "Data columns (total 9 columns):\n",
      " #   Column        Non-Null Count   Dtype  \n",
      "---  ------        --------------   -----  \n",
      " 0   id_school     133398 non-null  int64  \n",
      " 1   name          133398 non-null  object \n",
      " 2   city          133398 non-null  object \n",
      " 3   state         133398 non-null  object \n",
      " 4   county        133375 non-null  object \n",
      " 5   country       133398 non-null  object \n",
      " 6   n_students    133398 non-null  float64\n",
      " 7   n_teachers    133398 non-null  float64\n",
      " 8   availability  133398 non-null  object \n",
      "dtypes: float64(2), int64(1), object(6)\n",
      "memory usage: 9.2+ MB\n"
     ]
    }
   ],
   "source": [
    "df.columns = new_columns\n",
    "df.info()"
   ]
  },
  {
   "cell_type": "markdown",
   "metadata": {},
   "source": [
    "There are some null values in the county, so we have to check that."
   ]
  },
  {
   "cell_type": "code",
   "execution_count": 27,
   "metadata": {},
   "outputs": [
    {
     "data": {
      "text/html": [
       "<div>\n",
       "<style scoped>\n",
       "    .dataframe tbody tr th:only-of-type {\n",
       "        vertical-align: middle;\n",
       "    }\n",
       "\n",
       "    .dataframe tbody tr th {\n",
       "        vertical-align: top;\n",
       "    }\n",
       "\n",
       "    .dataframe thead th {\n",
       "        text-align: right;\n",
       "    }\n",
       "</style>\n",
       "<table border=\"1\" class=\"dataframe\">\n",
       "  <thead>\n",
       "    <tr style=\"text-align: right;\">\n",
       "      <th></th>\n",
       "      <th>id_school</th>\n",
       "      <th>name</th>\n",
       "      <th>city</th>\n",
       "      <th>state</th>\n",
       "      <th>county</th>\n",
       "      <th>country</th>\n",
       "      <th>n_students</th>\n",
       "      <th>n_teachers</th>\n",
       "      <th>availability</th>\n",
       "    </tr>\n",
       "  </thead>\n",
       "  <tbody>\n",
       "    <tr>\n",
       "      <th>111</th>\n",
       "      <td>111</td>\n",
       "      <td>PORCUPINE DAY SCHOOL</td>\n",
       "      <td>PORCUPINE</td>\n",
       "      <td>SD</td>\n",
       "      <td>NaN</td>\n",
       "      <td>USA</td>\n",
       "      <td>197.0</td>\n",
       "      <td>28.263525</td>\n",
       "      <td>public</td>\n",
       "    </tr>\n",
       "    <tr>\n",
       "      <th>450</th>\n",
       "      <td>450</td>\n",
       "      <td>RED SHIRT SCHOOL - 04</td>\n",
       "      <td>HERMOSA</td>\n",
       "      <td>SD</td>\n",
       "      <td>NaN</td>\n",
       "      <td>USA</td>\n",
       "      <td>88.0</td>\n",
       "      <td>7.000000</td>\n",
       "      <td>public</td>\n",
       "    </tr>\n",
       "    <tr>\n",
       "      <th>1542</th>\n",
       "      <td>1542</td>\n",
       "      <td>NUNAM IQUA SCHOOL</td>\n",
       "      <td>SHELDON POINT</td>\n",
       "      <td>AK</td>\n",
       "      <td>NaN</td>\n",
       "      <td>USA</td>\n",
       "      <td>64.0</td>\n",
       "      <td>5.000000</td>\n",
       "      <td>public</td>\n",
       "    </tr>\n",
       "    <tr>\n",
       "      <th>10832</th>\n",
       "      <td>10832</td>\n",
       "      <td>BATESLAND SCHOOL - 01</td>\n",
       "      <td>BATESLAND</td>\n",
       "      <td>SD</td>\n",
       "      <td>NaN</td>\n",
       "      <td>USA</td>\n",
       "      <td>181.0</td>\n",
       "      <td>15.000000</td>\n",
       "      <td>public</td>\n",
       "    </tr>\n",
       "    <tr>\n",
       "      <th>15564</th>\n",
       "      <td>15564</td>\n",
       "      <td>MARSHALL SCHOOL</td>\n",
       "      <td>MARSHALL</td>\n",
       "      <td>AK</td>\n",
       "      <td>NaN</td>\n",
       "      <td>USA</td>\n",
       "      <td>119.0</td>\n",
       "      <td>8.000000</td>\n",
       "      <td>public</td>\n",
       "    </tr>\n",
       "    <tr>\n",
       "      <th>19164</th>\n",
       "      <td>19164</td>\n",
       "      <td>LITTLE WOUND SCHOOL</td>\n",
       "      <td>KYLE</td>\n",
       "      <td>SD</td>\n",
       "      <td>NaN</td>\n",
       "      <td>USA</td>\n",
       "      <td>948.0</td>\n",
       "      <td>28.263525</td>\n",
       "      <td>public</td>\n",
       "    </tr>\n",
       "    <tr>\n",
       "      <th>23174</th>\n",
       "      <td>23174</td>\n",
       "      <td>ROCKYFORD SCHOOL - 03</td>\n",
       "      <td>PORCUPINE</td>\n",
       "      <td>SD</td>\n",
       "      <td>NaN</td>\n",
       "      <td>USA</td>\n",
       "      <td>394.0</td>\n",
       "      <td>30.000000</td>\n",
       "      <td>public</td>\n",
       "    </tr>\n",
       "    <tr>\n",
       "      <th>28414</th>\n",
       "      <td>28414</td>\n",
       "      <td>OGLALA LAKOTA COUNTY ALTERNATIVE - 09</td>\n",
       "      <td>PINE RIDGE</td>\n",
       "      <td>SD</td>\n",
       "      <td>NaN</td>\n",
       "      <td>USA</td>\n",
       "      <td>4.0</td>\n",
       "      <td>1.000000</td>\n",
       "      <td>public</td>\n",
       "    </tr>\n",
       "    <tr>\n",
       "      <th>32302</th>\n",
       "      <td>32302</td>\n",
       "      <td>HOOPER BAY SCHOOL</td>\n",
       "      <td>HOOPER BAY</td>\n",
       "      <td>AK</td>\n",
       "      <td>NaN</td>\n",
       "      <td>USA</td>\n",
       "      <td>456.0</td>\n",
       "      <td>30.000000</td>\n",
       "      <td>public</td>\n",
       "    </tr>\n",
       "    <tr>\n",
       "      <th>34367</th>\n",
       "      <td>34367</td>\n",
       "      <td>RUSSIAN MISSION SCHOOL</td>\n",
       "      <td>RUSSIAN MISSION</td>\n",
       "      <td>AK</td>\n",
       "      <td>NaN</td>\n",
       "      <td>USA</td>\n",
       "      <td>125.0</td>\n",
       "      <td>8.000000</td>\n",
       "      <td>public</td>\n",
       "    </tr>\n",
       "    <tr>\n",
       "      <th>42170</th>\n",
       "      <td>42170</td>\n",
       "      <td>OGLALA LAKOTA COUNTY VIRTUAL HIGH SCHOOL - 92</td>\n",
       "      <td>BATESLAND</td>\n",
       "      <td>SD</td>\n",
       "      <td>NaN</td>\n",
       "      <td>USA</td>\n",
       "      <td>106.0</td>\n",
       "      <td>5.000000</td>\n",
       "      <td>public</td>\n",
       "    </tr>\n",
       "    <tr>\n",
       "      <th>53542</th>\n",
       "      <td>53542</td>\n",
       "      <td>PINE RIDGE SCHOOL</td>\n",
       "      <td>PINE RIDGE</td>\n",
       "      <td>SD</td>\n",
       "      <td>NaN</td>\n",
       "      <td>USA</td>\n",
       "      <td>929.0</td>\n",
       "      <td>28.263525</td>\n",
       "      <td>public</td>\n",
       "    </tr>\n",
       "    <tr>\n",
       "      <th>55030</th>\n",
       "      <td>55030</td>\n",
       "      <td>CHEVAK SCHOOL</td>\n",
       "      <td>CHEVAK</td>\n",
       "      <td>AK</td>\n",
       "      <td>NaN</td>\n",
       "      <td>USA</td>\n",
       "      <td>333.0</td>\n",
       "      <td>24.000000</td>\n",
       "      <td>public</td>\n",
       "    </tr>\n",
       "    <tr>\n",
       "      <th>60525</th>\n",
       "      <td>60525</td>\n",
       "      <td>ALAKANUK SCHOOL</td>\n",
       "      <td>ALAKANUK</td>\n",
       "      <td>AK</td>\n",
       "      <td>NaN</td>\n",
       "      <td>USA</td>\n",
       "      <td>226.0</td>\n",
       "      <td>15.000000</td>\n",
       "      <td>public</td>\n",
       "    </tr>\n",
       "    <tr>\n",
       "      <th>63850</th>\n",
       "      <td>63850</td>\n",
       "      <td>EMMONAK SCHOOL</td>\n",
       "      <td>EMMONAK</td>\n",
       "      <td>AK</td>\n",
       "      <td>NaN</td>\n",
       "      <td>USA</td>\n",
       "      <td>207.0</td>\n",
       "      <td>13.000000</td>\n",
       "      <td>public</td>\n",
       "    </tr>\n",
       "    <tr>\n",
       "      <th>64854</th>\n",
       "      <td>64854</td>\n",
       "      <td>WOUNDED KNEE DISTRICT SCHOOL</td>\n",
       "      <td>MANDERSON</td>\n",
       "      <td>SD</td>\n",
       "      <td>NaN</td>\n",
       "      <td>USA</td>\n",
       "      <td>192.0</td>\n",
       "      <td>28.263525</td>\n",
       "      <td>public</td>\n",
       "    </tr>\n",
       "    <tr>\n",
       "      <th>66679</th>\n",
       "      <td>66679</td>\n",
       "      <td>LONEMAN DAY SCHOOL</td>\n",
       "      <td>OGLALA</td>\n",
       "      <td>SD</td>\n",
       "      <td>NaN</td>\n",
       "      <td>USA</td>\n",
       "      <td>248.0</td>\n",
       "      <td>28.263525</td>\n",
       "      <td>public</td>\n",
       "    </tr>\n",
       "    <tr>\n",
       "      <th>69583</th>\n",
       "      <td>69583</td>\n",
       "      <td>PILOT STATION SCHOOL</td>\n",
       "      <td>PILOT STATION</td>\n",
       "      <td>AK</td>\n",
       "      <td>NaN</td>\n",
       "      <td>USA</td>\n",
       "      <td>191.0</td>\n",
       "      <td>12.000000</td>\n",
       "      <td>public</td>\n",
       "    </tr>\n",
       "    <tr>\n",
       "      <th>80036</th>\n",
       "      <td>80036</td>\n",
       "      <td>SCAMMON BAY SCHOOL</td>\n",
       "      <td>SCAMMON BAY</td>\n",
       "      <td>AK</td>\n",
       "      <td>NaN</td>\n",
       "      <td>USA</td>\n",
       "      <td>234.0</td>\n",
       "      <td>15.000000</td>\n",
       "      <td>public</td>\n",
       "    </tr>\n",
       "    <tr>\n",
       "      <th>85135</th>\n",
       "      <td>85135</td>\n",
       "      <td>KOTLIK SCHOOL</td>\n",
       "      <td>KOTLIK</td>\n",
       "      <td>AK</td>\n",
       "      <td>NaN</td>\n",
       "      <td>USA</td>\n",
       "      <td>179.0</td>\n",
       "      <td>14.000000</td>\n",
       "      <td>public</td>\n",
       "    </tr>\n",
       "    <tr>\n",
       "      <th>93672</th>\n",
       "      <td>93672</td>\n",
       "      <td>WOLF CREEK SCHOOL - 02</td>\n",
       "      <td>PINE RIDGE</td>\n",
       "      <td>SD</td>\n",
       "      <td>NaN</td>\n",
       "      <td>USA</td>\n",
       "      <td>684.0</td>\n",
       "      <td>47.000000</td>\n",
       "      <td>public</td>\n",
       "    </tr>\n",
       "    <tr>\n",
       "      <th>93834</th>\n",
       "      <td>93834</td>\n",
       "      <td>MOUNTAIN VILLAGE SCHOOL</td>\n",
       "      <td>MOUNTAIN VILLAGE</td>\n",
       "      <td>AK</td>\n",
       "      <td>NaN</td>\n",
       "      <td>USA</td>\n",
       "      <td>196.0</td>\n",
       "      <td>16.000000</td>\n",
       "      <td>public</td>\n",
       "    </tr>\n",
       "    <tr>\n",
       "      <th>100891</th>\n",
       "      <td>100891</td>\n",
       "      <td>SAINT MARY'S SCHOOL</td>\n",
       "      <td>SAINT MARY'S</td>\n",
       "      <td>AK</td>\n",
       "      <td>NaN</td>\n",
       "      <td>USA</td>\n",
       "      <td>194.0</td>\n",
       "      <td>14.000000</td>\n",
       "      <td>public</td>\n",
       "    </tr>\n",
       "  </tbody>\n",
       "</table>\n",
       "</div>"
      ],
      "text/plain": [
       "        id_school                                           name  \\\n",
       "111           111                           PORCUPINE DAY SCHOOL   \n",
       "450           450                          RED SHIRT SCHOOL - 04   \n",
       "1542         1542                              NUNAM IQUA SCHOOL   \n",
       "10832       10832                          BATESLAND SCHOOL - 01   \n",
       "15564       15564                                MARSHALL SCHOOL   \n",
       "19164       19164                            LITTLE WOUND SCHOOL   \n",
       "23174       23174                          ROCKYFORD SCHOOL - 03   \n",
       "28414       28414          OGLALA LAKOTA COUNTY ALTERNATIVE - 09   \n",
       "32302       32302                              HOOPER BAY SCHOOL   \n",
       "34367       34367                         RUSSIAN MISSION SCHOOL   \n",
       "42170       42170  OGLALA LAKOTA COUNTY VIRTUAL HIGH SCHOOL - 92   \n",
       "53542       53542                              PINE RIDGE SCHOOL   \n",
       "55030       55030                                  CHEVAK SCHOOL   \n",
       "60525       60525                                ALAKANUK SCHOOL   \n",
       "63850       63850                                 EMMONAK SCHOOL   \n",
       "64854       64854                   WOUNDED KNEE DISTRICT SCHOOL   \n",
       "66679       66679                             LONEMAN DAY SCHOOL   \n",
       "69583       69583                           PILOT STATION SCHOOL   \n",
       "80036       80036                             SCAMMON BAY SCHOOL   \n",
       "85135       85135                                  KOTLIK SCHOOL   \n",
       "93672       93672                         WOLF CREEK SCHOOL - 02   \n",
       "93834       93834                        MOUNTAIN VILLAGE SCHOOL   \n",
       "100891     100891                            SAINT MARY'S SCHOOL   \n",
       "\n",
       "                    city state county country  n_students  n_teachers  \\\n",
       "111            PORCUPINE    SD    NaN     USA       197.0   28.263525   \n",
       "450              HERMOSA    SD    NaN     USA        88.0    7.000000   \n",
       "1542       SHELDON POINT    AK    NaN     USA        64.0    5.000000   \n",
       "10832          BATESLAND    SD    NaN     USA       181.0   15.000000   \n",
       "15564           MARSHALL    AK    NaN     USA       119.0    8.000000   \n",
       "19164               KYLE    SD    NaN     USA       948.0   28.263525   \n",
       "23174          PORCUPINE    SD    NaN     USA       394.0   30.000000   \n",
       "28414         PINE RIDGE    SD    NaN     USA         4.0    1.000000   \n",
       "32302         HOOPER BAY    AK    NaN     USA       456.0   30.000000   \n",
       "34367    RUSSIAN MISSION    AK    NaN     USA       125.0    8.000000   \n",
       "42170          BATESLAND    SD    NaN     USA       106.0    5.000000   \n",
       "53542         PINE RIDGE    SD    NaN     USA       929.0   28.263525   \n",
       "55030             CHEVAK    AK    NaN     USA       333.0   24.000000   \n",
       "60525           ALAKANUK    AK    NaN     USA       226.0   15.000000   \n",
       "63850            EMMONAK    AK    NaN     USA       207.0   13.000000   \n",
       "64854          MANDERSON    SD    NaN     USA       192.0   28.263525   \n",
       "66679             OGLALA    SD    NaN     USA       248.0   28.263525   \n",
       "69583      PILOT STATION    AK    NaN     USA       191.0   12.000000   \n",
       "80036        SCAMMON BAY    AK    NaN     USA       234.0   15.000000   \n",
       "85135             KOTLIK    AK    NaN     USA       179.0   14.000000   \n",
       "93672         PINE RIDGE    SD    NaN     USA       684.0   47.000000   \n",
       "93834   MOUNTAIN VILLAGE    AK    NaN     USA       196.0   16.000000   \n",
       "100891      SAINT MARY'S    AK    NaN     USA       194.0   14.000000   \n",
       "\n",
       "       availability  \n",
       "111          public  \n",
       "450          public  \n",
       "1542         public  \n",
       "10832        public  \n",
       "15564        public  \n",
       "19164        public  \n",
       "23174        public  \n",
       "28414        public  \n",
       "32302        public  \n",
       "34367        public  \n",
       "42170        public  \n",
       "53542        public  \n",
       "55030        public  \n",
       "60525        public  \n",
       "63850        public  \n",
       "64854        public  \n",
       "66679        public  \n",
       "69583        public  \n",
       "80036        public  \n",
       "85135        public  \n",
       "93672        public  \n",
       "93834        public  \n",
       "100891       public  "
      ]
     },
     "execution_count": 27,
     "metadata": {},
     "output_type": "execute_result"
    }
   ],
   "source": [
    "df[df['county'].isna()]"
   ]
  },
  {
   "cell_type": "code",
   "execution_count": 28,
   "metadata": {},
   "outputs": [
    {
     "data": {
      "text/html": [
       "<div>\n",
       "<style scoped>\n",
       "    .dataframe tbody tr th:only-of-type {\n",
       "        vertical-align: middle;\n",
       "    }\n",
       "\n",
       "    .dataframe tbody tr th {\n",
       "        vertical-align: top;\n",
       "    }\n",
       "\n",
       "    .dataframe thead th {\n",
       "        text-align: right;\n",
       "    }\n",
       "</style>\n",
       "<table border=\"1\" class=\"dataframe\">\n",
       "  <thead>\n",
       "    <tr style=\"text-align: right;\">\n",
       "      <th></th>\n",
       "      <th>id_school</th>\n",
       "      <th>name</th>\n",
       "      <th>city</th>\n",
       "      <th>state</th>\n",
       "      <th>county</th>\n",
       "      <th>country</th>\n",
       "      <th>n_students</th>\n",
       "      <th>n_teachers</th>\n",
       "      <th>availability</th>\n",
       "    </tr>\n",
       "  </thead>\n",
       "  <tbody>\n",
       "    <tr>\n",
       "      <th>28414</th>\n",
       "      <td>28414</td>\n",
       "      <td>OGLALA LAKOTA COUNTY ALTERNATIVE - 09</td>\n",
       "      <td>PINE RIDGE</td>\n",
       "      <td>SD</td>\n",
       "      <td>NaN</td>\n",
       "      <td>USA</td>\n",
       "      <td>4.0</td>\n",
       "      <td>1.000000</td>\n",
       "      <td>public</td>\n",
       "    </tr>\n",
       "    <tr>\n",
       "      <th>45778</th>\n",
       "      <td>45778</td>\n",
       "      <td>SUCCESS ACADEMY</td>\n",
       "      <td>PINE RIDGE</td>\n",
       "      <td>KY</td>\n",
       "      <td>WOLFE</td>\n",
       "      <td>USA</td>\n",
       "      <td>23.0</td>\n",
       "      <td>1.000000</td>\n",
       "      <td>public</td>\n",
       "    </tr>\n",
       "    <tr>\n",
       "      <th>53542</th>\n",
       "      <td>53542</td>\n",
       "      <td>PINE RIDGE SCHOOL</td>\n",
       "      <td>PINE RIDGE</td>\n",
       "      <td>SD</td>\n",
       "      <td>NaN</td>\n",
       "      <td>USA</td>\n",
       "      <td>929.0</td>\n",
       "      <td>28.263525</td>\n",
       "      <td>public</td>\n",
       "    </tr>\n",
       "    <tr>\n",
       "      <th>86375</th>\n",
       "      <td>86375</td>\n",
       "      <td>DESSIE SCOTT SCHOOL</td>\n",
       "      <td>PINE RIDGE</td>\n",
       "      <td>KY</td>\n",
       "      <td>WOLFE</td>\n",
       "      <td>USA</td>\n",
       "      <td>44.0</td>\n",
       "      <td>3.000000</td>\n",
       "      <td>public</td>\n",
       "    </tr>\n",
       "    <tr>\n",
       "      <th>93672</th>\n",
       "      <td>93672</td>\n",
       "      <td>WOLF CREEK SCHOOL - 02</td>\n",
       "      <td>PINE RIDGE</td>\n",
       "      <td>SD</td>\n",
       "      <td>NaN</td>\n",
       "      <td>USA</td>\n",
       "      <td>684.0</td>\n",
       "      <td>47.000000</td>\n",
       "      <td>public</td>\n",
       "    </tr>\n",
       "    <tr>\n",
       "      <th>119799</th>\n",
       "      <td>17465</td>\n",
       "      <td>RED CLOUD INDIAN SCHOOL</td>\n",
       "      <td>PINE RIDGE</td>\n",
       "      <td>SD</td>\n",
       "      <td>OGALA LAKOTA</td>\n",
       "      <td>USA</td>\n",
       "      <td>568.0</td>\n",
       "      <td>62.000000</td>\n",
       "      <td>private</td>\n",
       "    </tr>\n",
       "  </tbody>\n",
       "</table>\n",
       "</div>"
      ],
      "text/plain": [
       "        id_school                                   name        city state  \\\n",
       "28414       28414  OGLALA LAKOTA COUNTY ALTERNATIVE - 09  PINE RIDGE    SD   \n",
       "45778       45778                        SUCCESS ACADEMY  PINE RIDGE    KY   \n",
       "53542       53542                      PINE RIDGE SCHOOL  PINE RIDGE    SD   \n",
       "86375       86375                    DESSIE SCOTT SCHOOL  PINE RIDGE    KY   \n",
       "93672       93672                 WOLF CREEK SCHOOL - 02  PINE RIDGE    SD   \n",
       "119799      17465                RED CLOUD INDIAN SCHOOL  PINE RIDGE    SD   \n",
       "\n",
       "              county country  n_students  n_teachers availability  \n",
       "28414            NaN     USA         4.0    1.000000       public  \n",
       "45778          WOLFE     USA        23.0    1.000000       public  \n",
       "53542            NaN     USA       929.0   28.263525       public  \n",
       "86375          WOLFE     USA        44.0    3.000000       public  \n",
       "93672            NaN     USA       684.0   47.000000       public  \n",
       "119799  OGALA LAKOTA     USA       568.0   62.000000      private  "
      ]
     },
     "execution_count": 28,
     "metadata": {},
     "output_type": "execute_result"
    }
   ],
   "source": [
    "df[df['city'] == 'PINE RIDGE']"
   ]
  },
  {
   "cell_type": "markdown",
   "metadata": {},
   "source": [
    "Some searches on the web show that, schools from the same city can be in differents counties, and we cannot fix them quickly with the data provided in the dataframes. Given that fixing them when there is some error in the data is expensive in time and it is only a small percentage of our dataset, removing incomplete data is the best course of action."
   ]
  },
  {
   "cell_type": "code",
   "execution_count": 29,
   "metadata": {},
   "outputs": [],
   "source": [
    "df.dropna(inplace=True)"
   ]
  },
  {
   "cell_type": "code",
   "execution_count": 30,
   "metadata": {},
   "outputs": [
    {
     "name": "stdout",
     "output_type": "stream",
     "text": [
      "<class 'pandas.core.frame.DataFrame'>\n",
      "Int64Index: 133375 entries, 0 to 133397\n",
      "Data columns (total 9 columns):\n",
      " #   Column        Non-Null Count   Dtype  \n",
      "---  ------        --------------   -----  \n",
      " 0   id_school     133375 non-null  int64  \n",
      " 1   name          133375 non-null  object \n",
      " 2   city          133375 non-null  object \n",
      " 3   state         133375 non-null  object \n",
      " 4   county        133375 non-null  object \n",
      " 5   country       133375 non-null  object \n",
      " 6   n_students    133375 non-null  float64\n",
      " 7   n_teachers    133375 non-null  float64\n",
      " 8   availability  133375 non-null  object \n",
      "dtypes: float64(2), int64(1), object(6)\n",
      "memory usage: 10.2+ MB\n"
     ]
    }
   ],
   "source": [
    "df.info()"
   ]
  },
  {
   "cell_type": "markdown",
   "metadata": {},
   "source": [
    "Our dataframe is ready to perform some initial EDA on it."
   ]
  },
  {
   "cell_type": "code",
   "execution_count": 31,
   "metadata": {},
   "outputs": [],
   "source": [
    "##### Exploratory Data Analysis"
   ]
  },
  {
   "cell_type": "code",
   "execution_count": 32,
   "metadata": {},
   "outputs": [
    {
     "data": {
      "image/png": "[encoded data removed]",
      "text/plain": [
       "<Figure size 720x360 with 1 Axes>"
      ]
     },
     "metadata": {
      "needs_background": "light"
     },
     "output_type": "display_data"
    }
   ],
   "source": [
    "school_cities_state = df[['state','id_school']].groupby('state').count().sort_values('id_school',ascending=False)\n",
    "school_cities_state.plot(kind='bar',legend=False,figsize=(10,5))\n",
    "plt.show()"
   ]
  },
  {
   "cell_type": "code",
   "execution_count": 33,
   "metadata": {},
   "outputs": [
    {
     "data": {
      "text/plain": [
       "<AxesSubplot:xlabel='state'>"
      ]
     },
     "execution_count": 33,
     "metadata": {},
     "output_type": "execute_result"
    },
    {
     "data": {
      "image/png": "[encoded data removed]",
      "text/plain": [
       "<Figure size 1440x360 with 1 Axes>"
      ]
     },
     "metadata": {
      "needs_background": "light"
     },
     "output_type": "display_data"
    }
   ],
   "source": [
    "pd.crosstab(df['state'],df['availability']).plot(kind='bar',figsize=(20,5))"
   ]
  },
  {
   "cell_type": "markdown",
   "metadata": {},
   "source": [
    "We can guess with this bars which state have more population. California and Texas are ranked one and two in the United States population chart."
   ]
  },
  {
   "cell_type": "markdown",
   "metadata": {},
   "source": [
    "However, we have some interesting findings in the second chart. For example, Texas has twice as many school schools as New York or Pennsylvania but the mayority of them are public schools. New York and Pennsylvania have more private schools than Texas."
   ]
  },
  {
   "cell_type": "markdown",
   "metadata": {},
   "source": [
    "Let's see the distribution of teachers and students across the states."
   ]
  },
  {
   "cell_type": "code",
   "execution_count": 34,
   "metadata": {},
   "outputs": [
    {
     "data": {
      "image/png": "[encoded data removed]",
      "text/plain": [
       "<Figure size 720x360 with 1 Axes>"
      ]
     },
     "metadata": {
      "needs_background": "light"
     },
     "output_type": "display_data"
    }
   ],
   "source": [
    "school_cities_state = df[['state','n_teachers']].groupby('state').mean().sort_values('n_teachers',ascending=False)\n",
    "school_cities_state.plot(kind='bar',legend=False,figsize=(10,5))\n",
    "plt.show()"
   ]
  },
  {
   "cell_type": "code",
   "execution_count": 35,
   "metadata": {},
   "outputs": [
    {
     "data": {
      "image/png": "[encoded data removed]",
      "text/plain": [
       "<Figure size 720x360 with 1 Axes>"
      ]
     },
     "metadata": {
      "needs_background": "light"
     },
     "output_type": "display_data"
    }
   ],
   "source": [
    "school_cities_state = df[['state','n_students']].groupby('state').mean().sort_values('n_students',ascending=False)\n",
    "school_cities_state.plot(kind='bar',legend=False,figsize=(10,5))\n",
    "plt.show()"
   ]
  },
  {
   "cell_type": "markdown",
   "metadata": {},
   "source": [
    "There isn't a lot of interesting findings here. Guam has a lot of teachers and students in each school whereas Montana has far fewer teachers and students."
   ]
  },
  {
   "cell_type": "markdown",
   "metadata": {},
   "source": [
    "Let's check how the difference between teachers and students between private and public schools."
   ]
  },
  {
   "cell_type": "code",
   "execution_count": 36,
   "metadata": {},
   "outputs": [
    {
     "data": {
      "text/html": [
       "<div>\n",
       "<style scoped>\n",
       "    .dataframe tbody tr th:only-of-type {\n",
       "        vertical-align: middle;\n",
       "    }\n",
       "\n",
       "    .dataframe tbody tr th {\n",
       "        vertical-align: top;\n",
       "    }\n",
       "\n",
       "    .dataframe thead th {\n",
       "        text-align: right;\n",
       "    }\n",
       "</style>\n",
       "<table border=\"1\" class=\"dataframe\">\n",
       "  <thead>\n",
       "    <tr style=\"text-align: right;\">\n",
       "      <th></th>\n",
       "      <th>n_students</th>\n",
       "      <th>n_teachers</th>\n",
       "      <th>proportion</th>\n",
       "    </tr>\n",
       "    <tr>\n",
       "      <th>availability</th>\n",
       "      <th></th>\n",
       "      <th></th>\n",
       "      <th></th>\n",
       "    </tr>\n",
       "  </thead>\n",
       "  <tbody>\n",
       "    <tr>\n",
       "      <th>public</th>\n",
       "      <td>512.601567</td>\n",
       "      <td>32.285266</td>\n",
       "      <td>15.877260</td>\n",
       "    </tr>\n",
       "    <tr>\n",
       "      <th>private</th>\n",
       "      <td>142.387909</td>\n",
       "      <td>13.790433</td>\n",
       "      <td>10.325123</td>\n",
       "    </tr>\n",
       "  </tbody>\n",
       "</table>\n",
       "</div>"
      ],
      "text/plain": [
       "              n_students  n_teachers  proportion\n",
       "availability                                    \n",
       "public        512.601567   32.285266   15.877260\n",
       "private       142.387909   13.790433   10.325123"
      ]
     },
     "execution_count": 36,
     "metadata": {},
     "output_type": "execute_result"
    }
   ],
   "source": [
    "school_cities_state = df[['availability','n_students','n_teachers']].groupby('availability').mean().sort_values('n_students',ascending=False)\n",
    "school_cities_state['proportion'] = school_cities_state['n_students'] / school_cities_state['n_teachers']\n",
    "school_cities_state"
   ]
  },
  {
   "cell_type": "markdown",
   "metadata": {},
   "source": [
    "There is a big disparity between the number of students each teacher has to teach. In the public system, one professor is assigned to 15.8 students while in the private schools, one professor is assigned to only 10 students."
   ]
  },
  {
   "cell_type": "markdown",
   "metadata": {},
   "source": [
    "Adittionaly we have data about universities and colleges. We have to do some minor transform in order to have mnore or less the same data in two dataframes."
   ]
  },
  {
   "cell_type": "code",
   "execution_count": 37,
   "metadata": {},
   "outputs": [],
   "source": [
    "df = pd.read_csv(r'D:\\Udacity\\data\\university\\Colleges_and_Universities.csv')"
   ]
  },
  {
   "cell_type": "code",
   "execution_count": 38,
   "metadata": {},
   "outputs": [
    {
     "data": {
      "text/html": [
       "<div>\n",
       "<style scoped>\n",
       "    .dataframe tbody tr th:only-of-type {\n",
       "        vertical-align: middle;\n",
       "    }\n",
       "\n",
       "    .dataframe tbody tr th {\n",
       "        vertical-align: top;\n",
       "    }\n",
       "\n",
       "    .dataframe thead th {\n",
       "        text-align: right;\n",
       "    }\n",
       "</style>\n",
       "<table border=\"1\" class=\"dataframe\">\n",
       "  <thead>\n",
       "    <tr style=\"text-align: right;\">\n",
       "      <th></th>\n",
       "      <th>index</th>\n",
       "      <th>X</th>\n",
       "      <th>Y</th>\n",
       "      <th>FID</th>\n",
       "      <th>IPEDSID</th>\n",
       "      <th>NAME</th>\n",
       "      <th>ADDRESS</th>\n",
       "      <th>ADDRESS2</th>\n",
       "      <th>CITY</th>\n",
       "      <th>STATE</th>\n",
       "      <th>...</th>\n",
       "      <th>ALIAS</th>\n",
       "      <th>SIZE_SET</th>\n",
       "      <th>INST_SIZE</th>\n",
       "      <th>PT_ENROLL</th>\n",
       "      <th>FT_ENROLL</th>\n",
       "      <th>TOT_ENROLL</th>\n",
       "      <th>HOUSING</th>\n",
       "      <th>DORM_CAP</th>\n",
       "      <th>TOT_EMPLOY</th>\n",
       "      <th>SHELTER_ID</th>\n",
       "    </tr>\n",
       "  </thead>\n",
       "  <tbody>\n",
       "    <tr>\n",
       "      <th>0</th>\n",
       "      <td>0</td>\n",
       "      <td>-92.260490</td>\n",
       "      <td>34.759308</td>\n",
       "      <td>7001</td>\n",
       "      <td>107840</td>\n",
       "      <td>Shorter College</td>\n",
       "      <td>604 Locust St</td>\n",
       "      <td>NOT AVAILABLE</td>\n",
       "      <td>N Little Rock</td>\n",
       "      <td>AR</td>\n",
       "      <td>...</td>\n",
       "      <td>NOT AVAILABLE</td>\n",
       "      <td>-3</td>\n",
       "      <td>1</td>\n",
       "      <td>24</td>\n",
       "      <td>28</td>\n",
       "      <td>52</td>\n",
       "      <td>2</td>\n",
       "      <td>0</td>\n",
       "      <td>18</td>\n",
       "      <td>NOT AVAILABLE</td>\n",
       "    </tr>\n",
       "    <tr>\n",
       "      <th>1</th>\n",
       "      <td>1</td>\n",
       "      <td>-121.289431</td>\n",
       "      <td>38.713353</td>\n",
       "      <td>7002</td>\n",
       "      <td>112181</td>\n",
       "      <td>Citrus Heights Beauty College</td>\n",
       "      <td>7518 Baird Way</td>\n",
       "      <td>NOT AVAILABLE</td>\n",
       "      <td>Citris Heights</td>\n",
       "      <td>CA</td>\n",
       "      <td>...</td>\n",
       "      <td>NOT AVAILABLE</td>\n",
       "      <td>-3</td>\n",
       "      <td>1</td>\n",
       "      <td>6</td>\n",
       "      <td>24</td>\n",
       "      <td>30</td>\n",
       "      <td>2</td>\n",
       "      <td>0</td>\n",
       "      <td>9</td>\n",
       "      <td>NOT AVAILABLE</td>\n",
       "    </tr>\n",
       "    <tr>\n",
       "      <th>2</th>\n",
       "      <td>2</td>\n",
       "      <td>-118.287070</td>\n",
       "      <td>34.101481</td>\n",
       "      <td>7003</td>\n",
       "      <td>116660</td>\n",
       "      <td>Joe Blasco Makeup Artist Training Center</td>\n",
       "      <td>1670 Hillhurst Avenue</td>\n",
       "      <td>NOT AVAILABLE</td>\n",
       "      <td>Los Angeles</td>\n",
       "      <td>CA</td>\n",
       "      <td>...</td>\n",
       "      <td>NOT AVAILABLE</td>\n",
       "      <td>-3</td>\n",
       "      <td>1</td>\n",
       "      <td>0</td>\n",
       "      <td>24</td>\n",
       "      <td>24</td>\n",
       "      <td>2</td>\n",
       "      <td>0</td>\n",
       "      <td>11</td>\n",
       "      <td>NOT AVAILABLE</td>\n",
       "    </tr>\n",
       "    <tr>\n",
       "      <th>3</th>\n",
       "      <td>3</td>\n",
       "      <td>-121.652662</td>\n",
       "      <td>36.700631</td>\n",
       "      <td>7004</td>\n",
       "      <td>125310</td>\n",
       "      <td>Waynes College of Beauty</td>\n",
       "      <td>1271 North Main Street</td>\n",
       "      <td>NOT AVAILABLE</td>\n",
       "      <td>Salinas</td>\n",
       "      <td>CA</td>\n",
       "      <td>...</td>\n",
       "      <td>NOT AVAILABLE</td>\n",
       "      <td>-3</td>\n",
       "      <td>1</td>\n",
       "      <td>18</td>\n",
       "      <td>16</td>\n",
       "      <td>34</td>\n",
       "      <td>2</td>\n",
       "      <td>0</td>\n",
       "      <td>9</td>\n",
       "      <td>NOT AVAILABLE</td>\n",
       "    </tr>\n",
       "    <tr>\n",
       "      <th>4</th>\n",
       "      <td>4</td>\n",
       "      <td>-71.070737</td>\n",
       "      <td>42.369930</td>\n",
       "      <td>7005</td>\n",
       "      <td>164368</td>\n",
       "      <td>Hult International Business School</td>\n",
       "      <td>1 Education Street</td>\n",
       "      <td>NOT AVAILABLE</td>\n",
       "      <td>Cambridge</td>\n",
       "      <td>MA</td>\n",
       "      <td>...</td>\n",
       "      <td>NOT AVAILABLE</td>\n",
       "      <td>-3</td>\n",
       "      <td>2</td>\n",
       "      <td>0</td>\n",
       "      <td>2243</td>\n",
       "      <td>2243</td>\n",
       "      <td>2</td>\n",
       "      <td>0</td>\n",
       "      <td>143</td>\n",
       "      <td>NOT AVAILABLE</td>\n",
       "    </tr>\n",
       "  </tbody>\n",
       "</table>\n",
       "<p>5 rows × 47 columns</p>\n",
       "</div>"
      ],
      "text/plain": [
       "   index           X          Y   FID  IPEDSID  \\\n",
       "0      0  -92.260490  34.759308  7001   107840   \n",
       "1      1 -121.289431  38.713353  7002   112181   \n",
       "2      2 -118.287070  34.101481  7003   116660   \n",
       "3      3 -121.652662  36.700631  7004   125310   \n",
       "4      4  -71.070737  42.369930  7005   164368   \n",
       "\n",
       "                                       NAME                 ADDRESS  \\\n",
       "0                           Shorter College           604 Locust St   \n",
       "1             Citrus Heights Beauty College          7518 Baird Way   \n",
       "2  Joe Blasco Makeup Artist Training Center   1670 Hillhurst Avenue   \n",
       "3                  Waynes College of Beauty  1271 North Main Street   \n",
       "4        Hult International Business School      1 Education Street   \n",
       "\n",
       "        ADDRESS2            CITY STATE  ...          ALIAS SIZE_SET INST_SIZE  \\\n",
       "0  NOT AVAILABLE   N Little Rock    AR  ...  NOT AVAILABLE       -3         1   \n",
       "1  NOT AVAILABLE  Citris Heights    CA  ...  NOT AVAILABLE       -3         1   \n",
       "2  NOT AVAILABLE     Los Angeles    CA  ...  NOT AVAILABLE       -3         1   \n",
       "3  NOT AVAILABLE         Salinas    CA  ...  NOT AVAILABLE       -3         1   \n",
       "4  NOT AVAILABLE       Cambridge    MA  ...  NOT AVAILABLE       -3         2   \n",
       "\n",
       "   PT_ENROLL FT_ENROLL  TOT_ENROLL HOUSING  DORM_CAP TOT_EMPLOY     SHELTER_ID  \n",
       "0         24        28          52       2         0         18  NOT AVAILABLE  \n",
       "1          6        24          30       2         0          9  NOT AVAILABLE  \n",
       "2          0        24          24       2         0         11  NOT AVAILABLE  \n",
       "3         18        16          34       2         0          9  NOT AVAILABLE  \n",
       "4          0      2243        2243       2         0        143  NOT AVAILABLE  \n",
       "\n",
       "[5 rows x 47 columns]"
      ]
     },
     "execution_count": 38,
     "metadata": {},
     "output_type": "execute_result"
    }
   ],
   "source": [
    "df.head()"
   ]
  },
  {
   "cell_type": "code",
   "execution_count": 39,
   "metadata": {},
   "outputs": [
    {
     "data": {
      "text/plain": [
       "Index(['index', 'X', 'Y', 'FID', 'IPEDSID', 'NAME', 'ADDRESS', 'ADDRESS2',\n",
       "       'CITY', 'STATE', 'ZIP', 'ZIP4', 'TELEPHONE', 'TYPE', 'STATUS',\n",
       "       'POPULATION', 'COUNTY', 'COUNTYFIPS', 'COUNTRY', 'LATITUDE',\n",
       "       'LONGITUDE', 'NAICS_CODE', 'NAICS_DESC', 'SOURCE', 'SOURCE_DAT',\n",
       "       'VAL_METHOD', 'VAL_DATE', 'WEBSITE', 'STFIPS', 'COFIPS', 'SECTOR',\n",
       "       'LEVEL_', 'HI_OFFER', 'DEG_GRANT', 'LOCALE', 'CLOSE_DATE', 'MERGE_ID',\n",
       "       'ALIAS', 'SIZE_SET', 'INST_SIZE', 'PT_ENROLL', 'FT_ENROLL',\n",
       "       'TOT_ENROLL', 'HOUSING', 'DORM_CAP', 'TOT_EMPLOY', 'SHELTER_ID'],\n",
       "      dtype='object')"
      ]
     },
     "execution_count": 39,
     "metadata": {},
     "output_type": "execute_result"
    }
   ],
   "source": [
    "df.columns"
   ]
  },
  {
   "cell_type": "markdown",
   "metadata": {},
   "source": [
    "The data from the school and this data have a lot of columns with the same type of data, like the name, city, county. In this case, to match the n_students and n_teachers columns we are going to use the TOT_ENROLL which is the number of students in the university and the TOT_EMPLOY because this level of education needs more people than teachers."
   ]
  },
  {
   "cell_type": "code",
   "execution_count": 40,
   "metadata": {},
   "outputs": [],
   "source": [
    "df.drop(['index', 'X', 'Y', 'FID', 'IPEDSID', 'ADDRESS', 'ADDRESS2',\n",
    "       'ZIP', 'ZIP4', 'TELEPHONE', 'TYPE', 'STATUS',\n",
    "       'POPULATION', 'COUNTYFIPS', 'LATITUDE',\n",
    "       'LONGITUDE', 'NAICS_CODE', 'NAICS_DESC', 'SOURCE', 'SOURCE_DAT',\n",
    "       'VAL_METHOD', 'VAL_DATE', 'WEBSITE', 'STFIPS', 'COFIPS', 'SECTOR',\n",
    "       'LEVEL_', 'HI_OFFER', 'DEG_GRANT', 'LOCALE', 'CLOSE_DATE', 'MERGE_ID',\n",
    "       'ALIAS', 'SIZE_SET', 'INST_SIZE', 'PT_ENROLL', 'FT_ENROLL',\n",
    "       'HOUSING', 'DORM_CAP', 'SHELTER_ID'],inplace=True, axis=1)"
   ]
  },
  {
   "cell_type": "code",
   "execution_count": 41,
   "metadata": {},
   "outputs": [
    {
     "name": "stdout",
     "output_type": "stream",
     "text": [
      "<class 'pandas.core.frame.DataFrame'>\n",
      "RangeIndex: 7735 entries, 0 to 7734\n",
      "Data columns (total 7 columns):\n",
      " #   Column      Non-Null Count  Dtype \n",
      "---  ------      --------------  ----- \n",
      " 0   NAME        7735 non-null   object\n",
      " 1   CITY        7735 non-null   object\n",
      " 2   STATE       7735 non-null   object\n",
      " 3   COUNTY      7735 non-null   object\n",
      " 4   COUNTRY     7735 non-null   object\n",
      " 5   TOT_ENROLL  7735 non-null   int64 \n",
      " 6   TOT_EMPLOY  7735 non-null   int64 \n",
      "dtypes: int64(2), object(5)\n",
      "memory usage: 423.1+ KB\n"
     ]
    }
   ],
   "source": [
    "df.info()"
   ]
  },
  {
   "cell_type": "code",
   "execution_count": 42,
   "metadata": {},
   "outputs": [
    {
     "data": {
      "text/html": [
       "<div>\n",
       "<style scoped>\n",
       "    .dataframe tbody tr th:only-of-type {\n",
       "        vertical-align: middle;\n",
       "    }\n",
       "\n",
       "    .dataframe tbody tr th {\n",
       "        vertical-align: top;\n",
       "    }\n",
       "\n",
       "    .dataframe thead th {\n",
       "        text-align: right;\n",
       "    }\n",
       "</style>\n",
       "<table border=\"1\" class=\"dataframe\">\n",
       "  <thead>\n",
       "    <tr style=\"text-align: right;\">\n",
       "      <th></th>\n",
       "      <th>TOT_ENROLL</th>\n",
       "      <th>TOT_EMPLOY</th>\n",
       "    </tr>\n",
       "  </thead>\n",
       "  <tbody>\n",
       "    <tr>\n",
       "      <th>count</th>\n",
       "      <td>7735.000000</td>\n",
       "      <td>7735.000000</td>\n",
       "    </tr>\n",
       "    <tr>\n",
       "      <th>mean</th>\n",
       "      <td>2759.578151</td>\n",
       "      <td>474.268649</td>\n",
       "    </tr>\n",
       "    <tr>\n",
       "      <th>std</th>\n",
       "      <td>6695.364257</td>\n",
       "      <td>1488.795583</td>\n",
       "    </tr>\n",
       "    <tr>\n",
       "      <th>min</th>\n",
       "      <td>0.000000</td>\n",
       "      <td>0.000000</td>\n",
       "    </tr>\n",
       "    <tr>\n",
       "      <th>25%</th>\n",
       "      <td>114.000000</td>\n",
       "      <td>20.000000</td>\n",
       "    </tr>\n",
       "    <tr>\n",
       "      <th>50%</th>\n",
       "      <td>434.000000</td>\n",
       "      <td>74.000000</td>\n",
       "    </tr>\n",
       "    <tr>\n",
       "      <th>75%</th>\n",
       "      <td>2232.500000</td>\n",
       "      <td>383.000000</td>\n",
       "    </tr>\n",
       "    <tr>\n",
       "      <th>max</th>\n",
       "      <td>204920.000000</td>\n",
       "      <td>28018.000000</td>\n",
       "    </tr>\n",
       "  </tbody>\n",
       "</table>\n",
       "</div>"
      ],
      "text/plain": [
       "          TOT_ENROLL    TOT_EMPLOY\n",
       "count    7735.000000   7735.000000\n",
       "mean     2759.578151    474.268649\n",
       "std      6695.364257   1488.795583\n",
       "min         0.000000      0.000000\n",
       "25%       114.000000     20.000000\n",
       "50%       434.000000     74.000000\n",
       "75%      2232.500000    383.000000\n",
       "max    204920.000000  28018.000000"
      ]
     },
     "execution_count": 42,
     "metadata": {},
     "output_type": "execute_result"
    }
   ],
   "source": [
    "df.describe()"
   ]
  },
  {
   "cell_type": "code",
   "execution_count": 43,
   "metadata": {},
   "outputs": [],
   "source": [
    "df.reset_index(inplace=True)"
   ]
  },
  {
   "cell_type": "code",
   "execution_count": 44,
   "metadata": {},
   "outputs": [],
   "source": [
    "df['availability'] = 'No data'"
   ]
  },
  {
   "cell_type": "code",
   "execution_count": 45,
   "metadata": {},
   "outputs": [],
   "source": [
    "new_columns = ['id_college','name','city','state','county','country','n_students','n_employees','availability']\n",
    "df.columns = new_columns"
   ]
  },
  {
   "cell_type": "code",
   "execution_count": 46,
   "metadata": {},
   "outputs": [
    {
     "data": {
      "text/html": [
       "<div>\n",
       "<style scoped>\n",
       "    .dataframe tbody tr th:only-of-type {\n",
       "        vertical-align: middle;\n",
       "    }\n",
       "\n",
       "    .dataframe tbody tr th {\n",
       "        vertical-align: top;\n",
       "    }\n",
       "\n",
       "    .dataframe thead th {\n",
       "        text-align: right;\n",
       "    }\n",
       "</style>\n",
       "<table border=\"1\" class=\"dataframe\">\n",
       "  <thead>\n",
       "    <tr style=\"text-align: right;\">\n",
       "      <th></th>\n",
       "      <th>id_college</th>\n",
       "      <th>name</th>\n",
       "      <th>city</th>\n",
       "      <th>state</th>\n",
       "      <th>county</th>\n",
       "      <th>country</th>\n",
       "      <th>n_students</th>\n",
       "      <th>n_employees</th>\n",
       "      <th>availability</th>\n",
       "    </tr>\n",
       "  </thead>\n",
       "  <tbody>\n",
       "    <tr>\n",
       "      <th>0</th>\n",
       "      <td>0</td>\n",
       "      <td>Shorter College</td>\n",
       "      <td>N Little Rock</td>\n",
       "      <td>AR</td>\n",
       "      <td>Pulaski</td>\n",
       "      <td>US</td>\n",
       "      <td>52</td>\n",
       "      <td>18</td>\n",
       "      <td>No data</td>\n",
       "    </tr>\n",
       "    <tr>\n",
       "      <th>1</th>\n",
       "      <td>1</td>\n",
       "      <td>Citrus Heights Beauty College</td>\n",
       "      <td>Citris Heights</td>\n",
       "      <td>CA</td>\n",
       "      <td>Sacramento</td>\n",
       "      <td>US</td>\n",
       "      <td>30</td>\n",
       "      <td>9</td>\n",
       "      <td>No data</td>\n",
       "    </tr>\n",
       "    <tr>\n",
       "      <th>2</th>\n",
       "      <td>2</td>\n",
       "      <td>Joe Blasco Makeup Artist Training Center</td>\n",
       "      <td>Los Angeles</td>\n",
       "      <td>CA</td>\n",
       "      <td>Los Angeles</td>\n",
       "      <td>US</td>\n",
       "      <td>24</td>\n",
       "      <td>11</td>\n",
       "      <td>No data</td>\n",
       "    </tr>\n",
       "    <tr>\n",
       "      <th>3</th>\n",
       "      <td>3</td>\n",
       "      <td>Waynes College of Beauty</td>\n",
       "      <td>Salinas</td>\n",
       "      <td>CA</td>\n",
       "      <td>Monterey</td>\n",
       "      <td>US</td>\n",
       "      <td>34</td>\n",
       "      <td>9</td>\n",
       "      <td>No data</td>\n",
       "    </tr>\n",
       "    <tr>\n",
       "      <th>4</th>\n",
       "      <td>4</td>\n",
       "      <td>Hult International Business School</td>\n",
       "      <td>Cambridge</td>\n",
       "      <td>MA</td>\n",
       "      <td>Middlesex</td>\n",
       "      <td>US</td>\n",
       "      <td>2243</td>\n",
       "      <td>143</td>\n",
       "      <td>No data</td>\n",
       "    </tr>\n",
       "  </tbody>\n",
       "</table>\n",
       "</div>"
      ],
      "text/plain": [
       "   id_college                                      name            city state  \\\n",
       "0           0                           Shorter College   N Little Rock    AR   \n",
       "1           1             Citrus Heights Beauty College  Citris Heights    CA   \n",
       "2           2  Joe Blasco Makeup Artist Training Center     Los Angeles    CA   \n",
       "3           3                  Waynes College of Beauty         Salinas    CA   \n",
       "4           4        Hult International Business School       Cambridge    MA   \n",
       "\n",
       "        county country  n_students  n_employees availability  \n",
       "0      Pulaski      US          52           18      No data  \n",
       "1   Sacramento      US          30            9      No data  \n",
       "2  Los Angeles      US          24           11      No data  \n",
       "3     Monterey      US          34            9      No data  \n",
       "4    Middlesex      US        2243          143      No data  "
      ]
     },
     "execution_count": 46,
     "metadata": {},
     "output_type": "execute_result"
    }
   ],
   "source": [
    "df.head()"
   ]
  },
  {
   "cell_type": "markdown",
   "metadata": {},
   "source": [
    "Finally, we have the schools dataset and the college dataset unified in the same format. In order to create our model in the database, we have to explore the others dataset in order to know which columns are needed."
   ]
  },
  {
   "cell_type": "markdown",
   "metadata": {},
   "source": []
  }
 ],
 "metadata": {
  "interpreter": {
   "hash": "f3ee871df7dd1d7f332ef8801f1084399a029d68f5c08cce97f7c05d7a95758a"
  },
  "kernelspec": {
   "display_name": "Python 3.10.4 64-bit",
   "language": "python",
   "name": "python3"
  },
  "language_info": {
   "codemirror_mode": {
    "name": "ipython",
    "version": 3
   },
   "file_extension": ".py",
   "mimetype": "text/x-python",
   "name": "python",
   "nbconvert_exporter": "python",
   "pygments_lexer": "ipython3",
   "version": "3.10.4"
  },
  "orig_nbformat": 4
 },
 "nbformat": 4,
 "nbformat_minor": 2
}
